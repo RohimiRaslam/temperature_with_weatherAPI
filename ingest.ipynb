{
 "cells": [
  {
   "cell_type": "code",
   "execution_count": 19,
   "metadata": {},
   "outputs": [],
   "source": [
    "import requests\n",
    "import pandas as pd\n",
    "import os\n",
    "from dotenv import load_dotenv\n",
    "from datetime import datetime, timedelta\n",
    "\n",
    "load_dotenv()\n",
    "api_key = os.getenv('weather_api_key')\n",
    "base_url = 'http://api.weatherapi.com/v1'"
   ]
  },
  {
   "cell_type": "code",
   "execution_count": 20,
   "metadata": {},
   "outputs": [],
   "source": [
    "capitals = [\n",
    "    \"Johor Bahru\", \n",
    "    \"Alor Setar\", \n",
    "    \"Kota Bharu\", \n",
    "    \"Malacca City\", \n",
    "    \"Seremban\", \n",
    "    \"Kuantan\", \n",
    "    \"George Town\", \n",
    "    \"Ipoh\", \n",
    "    \"Kangar\", \n",
    "    \"Kota Kinabalu\", \n",
    "    \"Kuching\", \n",
    "    \"Shah Alam\", \n",
    "    \"Kuala Terengganu\",\n",
    "    \"Kuala Lumpur\", \n",
    "]"
   ]
  },
  {
   "cell_type": "code",
   "execution_count": null,
   "metadata": {},
   "outputs": [],
   "source": [
    "def get_hourly_history():\n",
    "    folder_path = 'hourly_data'\n",
    "    os.makedirs(folder_path, exist_ok=True)\n",
    "    history_url = base_url + \"/history.json\"\n",
    "\n",
    "    dates = [(datetime.now() - timedelta(day)).strftime(\"%Y-%m-%d\") for day in range(1,9)]\n",
    "\n",
    "    for date in dates:\n",
    "        for capital in capitals:\n",
    "            params = {\"key\": api_key, \"q\": capital, \"dt\": date}\n",
    "            try:\n",
    "                response = requests.get(history_url, params=params)\n",
    "                if response.status_code == 200:\n",
    "                    history_data = response.json()\n",
    "                    day = history_data['forecast']['forecastday'][0]['day']        \n",
    "                    hourly = history_data['forecast']['forecastday'][0]['hour']\n",
    "                    \n",
    "                    hourly_dict = {}\n",
    "                    \n",
    "                    for d in hourly:\n",
    "                        for key, value in d.items():\n",
    "                            if key in hourly_dict:\n",
    "                                hourly_dict[key].append(value)\n",
    "                            else:\n",
    "                                hourly_dict[key] = [value]\n",
    "                    df = pd.DataFrame(hourly_dict)\n",
    "\n",
    "                    file_name = f\"{capital}_{date}\"\n",
    "                    file_path = os.path.join(folder_path , file_name)\n",
    "\n",
    "                    if os.path.exists(file_path):\n",
    "                        print(f\"{file_path} is already existed, skipping...\")\n",
    "                        continue\n",
    "                    else:\n",
    "                        df.to_csv(file_path , index=False, header=True, encoding=None)\n",
    "                \n",
    "                elif response.status_code == 404:\n",
    "                    print(\"Error: Not Found (404)\")\n",
    "                elif response.status_code == 401:\n",
    "                    print(\"Error: Unauthorized (401) - Check your API key.\")\n",
    "                else:\n",
    "                    print(f\"Error: Received unexpected status code {response.status_code}\")\n",
    "\n",
    "            except requests.exceptions.RequestException as e:\n",
    "                print(f\"An error occurred: {e}\")\n",
    "\n",
    "get_hourly_history()"
   ]
  }
 ],
 "metadata": {
  "kernelspec": {
   "display_name": "temperature",
   "language": "python",
   "name": "python3"
  },
  "language_info": {
   "codemirror_mode": {
    "name": "ipython",
    "version": 3
   },
   "file_extension": ".py",
   "mimetype": "text/x-python",
   "name": "python",
   "nbconvert_exporter": "python",
   "pygments_lexer": "ipython3",
   "version": "3.11.9"
  }
 },
 "nbformat": 4,
 "nbformat_minor": 2
}
